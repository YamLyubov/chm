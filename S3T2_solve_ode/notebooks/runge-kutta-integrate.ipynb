{
 "cells": [
  {
   "cell_type": "code",
   "execution_count": null,
   "metadata": {},
   "outputs": [],
   "source": [
    "import numpy as np\n",
    "%matplotlib notebook\n",
    "import matplotlib.pyplot as plt"
   ]
  },
  {
   "cell_type": "markdown",
   "metadata": {},
   "source": [
    "Возьмём несколько схем семейства Рунге-Кутты и используем их коэффициенты b[i] и c[i] для того, чтобы построить ИКФ.\n",
    "\n",
    "При этом c[i] будут определять положение узлов ИКФ, а b[i] - значения коэффициентов ИКФ (A[i])."
   ]
  },
  {
   "cell_type": "code",
   "execution_count": null,
   "metadata": {},
   "outputs": [],
   "source": [
    "euler = {\n",
    "    'name': 'Euler (1)',\n",
    "    'A': [\n",
    "        [0.0],\n",
    "    ],\n",
    "    'b': np.array([1])\n",
    "}"
   ]
  },
  {
   "cell_type": "code",
   "execution_count": null,
   "metadata": {},
   "outputs": [],
   "source": [
    "pred_corr = {\n",
    "    'name': 'Predictor-corrector (2)',\n",
    "    'A': [\n",
    "        [0.0, 0.0],\n",
    "        [0.5, 0.5],\n",
    "    ],\n",
    "    'b': np.array([0.5, 0.5])\n",
    "}"
   ]
  },
  {
   "cell_type": "code",
   "execution_count": null,
   "metadata": {},
   "outputs": [],
   "source": [
    "rk4 = {\n",
    "    'name': 'Runge-Kutta (4)',\n",
    "    'A': [\n",
    "        [0.0, 0.0, 0.0, 0.],\n",
    "        [0.5, 0.0, 0.0, 0.],\n",
    "        [0.0, 0.5, 0.0, 0.],\n",
    "        [0.0, 0.0, 1.0, 0.],\n",
    "    ],\n",
    "    'b': np.array([1, 2, 2, 1]) / 6\n",
    "}"
   ]
  },
  {
   "cell_type": "code",
   "execution_count": null,
   "metadata": {},
   "outputs": [],
   "source": [
    "dp5 = {\n",
    "    'name': 'Dormand-Prince (5)',\n",
    "    'A': [\n",
    "        [0, 0, 0, 0, 0, 0, 0],\n",
    "        [1 / 5, 0, 0, 0, 0, 0, 0],\n",
    "        [3 / 40, 9 / 40, 0, 0, 0, 0, 0],\n",
    "        [44 / 45, -56 / 15, 32 / 9, 0, 0, 0, 0],\n",
    "        [19372 / 6561, -25360 / 2187, 64448 / 6561, -212 / 729, 0, 0, 0],\n",
    "        [9017 / 3168, -355 / 33, 46732 / 5247, 49 / 176, -5103 / 18656, 0, 0],\n",
    "        [35 / 384, 0, 500 / 1113, 125 / 192, -2187 / 6784, 11 / 84, 0],\n",
    "    ],\n",
    "    'b': np.array([35 / 384, 0, 500 / 1113, 125 / 192, -2187 / 6784, 11 / 84, 0])\n",
    "}"
   ]
  },
  {
   "cell_type": "code",
   "execution_count": null,
   "metadata": {},
   "outputs": [],
   "source": [
    "def func(x, k):\n",
    "    return x**k"
   ]
  },
  {
   "cell_type": "markdown",
   "metadata": {},
   "source": [
    "Проверим на мономах и убедимся, что АСТ соответствующей ИКФ всегда на единицу меньше, чем порядок соответствующей схемы Рунге-Кутты (почему?)."
   ]
  },
  {
   "cell_type": "code",
   "execution_count": null,
   "metadata": {},
   "outputs": [],
   "source": [
    "x0, x1 = -2, 3\n",
    "degs = range(0, 6)\n",
    "\n",
    "plt.figure(figsize=(9, 6))\n",
    "\n",
    "for method in [euler, pred_corr, rk4, dp5]:\n",
    "    c = np.sum(method['A'], axis=1)  # c - это построчная сумма матрицы А\n",
    "    n = len(method['A'])\n",
    "    xs = x0 + (x1-x0) * c  # коэффициенты вектора c определяют узлы ИКФ\n",
    "\n",
    "    accs = []\n",
    "    for deg in degs:\n",
    "        fs = [func(x, deg) for x in xs]\n",
    "        int_rk = method['b'] @ fs * (x1-x0)  # коэффициенты вектора b будут коэффициентами ИКФ\n",
    "        \n",
    "        int_ex = (func(x1, deg+1) - func(x0, deg+1)) / (deg+1)  # точное значение интеграла\n",
    "        \n",
    "        accs.append(min(17, -np.log10(np.abs(int_rk - int_ex))))\n",
    "    plt.plot(degs, accs, '.:', label=method['name'])\n",
    "plt.xlabel('x^k degree')\n",
    "plt.ylabel('accuracy')\n",
    "plt.legend();"
   ]
  },
  {
   "cell_type": "code",
   "execution_count": null,
   "metadata": {},
   "outputs": [],
   "source": []
  }
 ],
 "metadata": {
  "kernelspec": {
   "display_name": "Python 3",
   "language": "python",
   "name": "python3"
  },
  "language_info": {
   "codemirror_mode": {
    "name": "ipython",
    "version": 3
   },
   "file_extension": ".py",
   "mimetype": "text/x-python",
   "name": "python",
   "nbconvert_exporter": "python",
   "pygments_lexer": "ipython3",
   "version": "3.7.6"
  }
 },
 "nbformat": 4,
 "nbformat_minor": 4
}
